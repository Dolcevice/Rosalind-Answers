{
  "nbformat": 4,
  "nbformat_minor": 0,
  "metadata": {
    "colab": {
      "name": "Rosalind - 1 - Counting",
      "version": "0.3.2",
      "provenance": [],
      "include_colab_link": true
    },
    "kernelspec": {
      "name": "python3",
      "display_name": "Python 3"
    }
  },
  "cells": [
    {
      "cell_type": "markdown",
      "metadata": {
        "id": "view-in-github",
        "colab_type": "text"
      },
      "source": [
        "<a href=\"https://colab.research.google.com/github/Dolcevice/Rosalind-Answers/blob/master/Rosalind_1_Counting.ipynb\" target=\"_parent\"><img src=\"https://colab.research.google.com/assets/colab-badge.svg\" alt=\"Open In Colab\"/></a>"
      ]
    },
    {
      "cell_type": "code",
      "metadata": {
        "id": "Xk9lBJZIxU70",
        "colab_type": "code",
        "colab": {}
      },
      "source": [
        "value = \"CTTTCGCATGAGGGGCGAGCCGGGTAAGTAGATAAGCGGTAATAGCGACCACGATCGGCGATGCGCCATTTGGCCTACGATTGCCCAACGCTTACAATAGATTCCACTGCGGTCAGAAGCGGGCCCCTTGTCGTACATCCTTAACAACTGAGCACAAGGAGGCTAATATGAACACCACGACGACCGATTGCCTCTTTGTCTCAATTTAAACGGTACGTGACTTCGGTCTAGGGTTGGCGGCTTGTGTTACGAGTGTAATCTAAAACAGGGCTCAAATTAGCCGCGGCCGAGATCACTCGCGTATGAACAATCTTGGTGCAGTATAACTATTTTGTGTCGGTTCGATACCGTGAGTTTAGTATTATCTCCTAGTATTCGTTATATATCCCAAAGCAAGGGGGAACCATCACGACTCGGCGTGTACTTAGATCGGAGTCGATGAGTATGGTACAAGAGCGTTCACGTTTTCGGTCTCTCTGTTTCACCGTAACGGGGGAATAATACAGCCCTTTTAAGACCATTTCATTCCGAGGTGGGTTCTTTCTAACGGGAACAATGTCAGCCCTTAATCCGACAGTTCTCGTAATCGAAAAGTGGTCGGTTGGGAAAAACCTTATGGAGCATATTTAAGGTACTATTTGGGATCCAAGAGCTGAGATGAAGGAAGGTTTCATGATGATTGGGCGTTTACACCTTCTAACGGTCGGTAAGGTTTATCACAAGAATCGCCTGCCTCTCCTAACATCCTGTTAGTTTCCTCCGGCTCGCAATTACCCTCCGCTGACGATAAATCGATGTGGGAGATGCTCTGCTCTTTGATCATAGCATCGAGACCTTCGTCAGATAACATGAGGTGCTGGTTGC\""
      ],
      "execution_count": 0,
      "outputs": []
    },
    {
      "cell_type": "code",
      "metadata": {
        "id": "cYeMfzcRxekm",
        "colab_type": "code",
        "outputId": "bf8e8074-12fa-4851-98c8-aef3837fd917",
        "colab": {
          "base_uri": "https://localhost:8080/",
          "height": 85
        }
      },
      "source": [
        "a_count = 0\n",
        "c_count = 0\n",
        "g_count = 0\n",
        "t_count = 0\n",
        "for ch in value:\n",
        "  if ch == 'A':\n",
        "    a_count += 1\n",
        "  elif ch == 'C':\n",
        "    c_count += 1\n",
        "  elif ch == 'G':\n",
        "    g_count += 1\n",
        "  elif ch == 'T':\n",
        "    t_count += 1\n",
        "    \n",
        "print(a_count)\n",
        "print(c_count)\n",
        "print(g_count)\n",
        "print(t_count)\n",
        "  \n",
        "  "
      ],
      "execution_count": 0,
      "outputs": [
        {
          "output_type": "stream",
          "text": [
            "215\n",
            "196\n",
            "216\n",
            "237\n"
          ],
          "name": "stdout"
        }
      ]
    }
  ]
}