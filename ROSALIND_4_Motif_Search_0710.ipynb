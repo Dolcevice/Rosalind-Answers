{
  "nbformat": 4,
  "nbformat_minor": 0,
  "metadata": {
    "colab": {
      "name": "ROSALIND - 4 - Motif Search - 0710",
      "version": "0.3.2",
      "provenance": [],
      "collapsed_sections": [],
      "include_colab_link": true
    },
    "kernelspec": {
      "name": "python3",
      "display_name": "Python 3"
    }
  },
  "cells": [
    {
      "cell_type": "markdown",
      "metadata": {
        "id": "view-in-github",
        "colab_type": "text"
      },
      "source": [
        "<a href=\"https://colab.research.google.com/github/Dolcevice/Rosalind-Answers/blob/master/ROSALIND_4_Motif_Search_0710.ipynb\" target=\"_parent\"><img src=\"https://colab.research.google.com/assets/colab-badge.svg\" alt=\"Open In Colab\"/></a>"
      ]
    },
    {
      "cell_type": "code",
      "metadata": {
        "id": "hU3iv1liwQfM",
        "colab_type": "code",
        "colab": {}
      },
      "source": [
        "def recursive_search(target, motif, index):\n",
        "  if len(motif) == 1:\n",
        "    return True\n",
        "  else:\n",
        "    try:\n",
        "      if target[index + 1] == motif[1]:\n",
        "        return recursive_search(target, motif[1:], index + 1)\n",
        "      else:\n",
        "        return False\n",
        "    except:\n",
        "      return False\n"
      ],
      "execution_count": 0,
      "outputs": []
    },
    {
      "cell_type": "code",
      "metadata": {
        "id": "E3aF82jSyzAr",
        "colab_type": "code",
        "outputId": "87a44dab-85e7-485d-f908-87280cdf8e38",
        "colab": {
          "base_uri": "https://localhost:8080/",
          "height": 513
        }
      },
      "source": [
        "target = str(input())\n",
        "motif = str(input())\n",
        "\n",
        "# Create a enumeration\n",
        "it = (ch for ch in target)    \n",
        "list_of = []\n",
        "for index, ch in enumerate(it):\n",
        "  if ch == motif[0]:\n",
        "    if recursive_search(target, motif, index):\n",
        "      list_of.append(index + 1)\n",
        "      \n",
        "for index in list_of:\n",
        "  print(str(index) + ' ')\n",
        "      \n",
        "    "
      ],
      "execution_count": 0,
      "outputs": [
        {
          "output_type": "stream",
          "text": [
            "TGCTGACGGCGGTTATTCACGGGTCACGGGTCACGGGGACACCAAACTCACGGGGCTCACGGGATTGTCACGGGTAATCACGGGAACTCACGGGTCACTCACGGGCGCATCACGGGATGGCAGTCACGGGTAAGGTCACGGGGAGTTCACGGGTACTCACGGGTCACGGGCGTCACGGGTCACGGGGTCACGGGGAGGACGTCACGGGCTCACGGGCTCACGGGCGAATCACGGGTCACGGGTGGTCACGGGTCACGGGTCACGGGTCACGGGGTCACGGGTTCACGGGATCACGGGTCACGGGTCACGGGCTATTCACGGGGGTCACGGGTTCACGGGTCACGGGTCACGGGTCACGGGACGGTTCACGGGTCACGGGGATCACGGGGTCTGTCACGGGGTCGTCATTTCACGGGGATCACGGGCGGGTCACGGGATAACATATCACGGGAACTCACGGGAAGAGTCACGGGTCACGGGTCACGGGCTCACGGGCGCTAATATTCACGGGCATGTCACGGGCTTCACGGGGGATCACGGGGTCACGGGTGGGATTATCACGGGCTCACGGGGCTCACGGGATCTCACGGGTCACGGGGCAAGCTCACGGGGTCACGGGGTTCACGGGTCACGGGAGCTCACGGGTCACGGGGTCACGGGCAACGGGCCCGTCGCGTCACGGGTCACGGGATAATCACGGGATCACGGGTCACGGGTCACGGGTGACTCACGGGTTCACGGGAATAATCACGGGTCACGGGTTTTCACGGGATCACGGGACATCACGGGCGTCCTTTAATCACGGGGCGGATCACGGGTGGTACTCACGGGGCGTCACGGGATCACGGGTCACGGGTCACGGGGTCACGGGGTCGTCACGGGATCACGGGAGTCTCGCGTTCACGGGCTCACGGGTGGAGTCCTTCACGGGGAGTTCACGGGGCTCACGGGAGCTCT\n",
            "TCACGGGTC\n",
            "17 \n",
            "24 \n",
            "88 \n",
            "157 \n",
            "173 \n",
            "229 \n",
            "246 \n",
            "253 \n",
            "260 \n",
            "291 \n",
            "298 \n",
            "333 \n",
            "340 \n",
            "347 \n",
            "366 \n",
            "467 \n",
            "474 \n",
            "585 \n",
            "622 \n",
            "639 \n",
            "677 \n",
            "703 \n",
            "710 \n",
            "748 \n",
            "843 \n",
            "850 \n"
          ],
          "name": "stdout"
        }
      ]
    }
  ]
}